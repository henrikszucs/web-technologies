{
 "cells": [
  {
   "cell_type": "code",
   "execution_count": 1,
   "id": "ee86791f",
   "metadata": {},
   "outputs": [],
   "source": [
    "from bottle import route, run"
   ]
  },
  {
   "cell_type": "code",
   "execution_count": 2,
   "id": "45eaccb7",
   "metadata": {},
   "outputs": [],
   "source": [
    "@route('/')\n",
    "@route('/hello')\n",
    "@route('/hello/')\n",
    "@route('/hello/<name>')\n",
    "def hello(name=\"user\"):\n",
    "    return 'Hello ' + name"
   ]
  },
  {
   "cell_type": "code",
   "execution_count": 19,
   "id": "a4709a44",
   "metadata": {},
   "outputs": [
    {
     "name": "stderr",
     "output_type": "stream",
     "text": [
      "/Users/szucshenrik/anaconda3/lib/python3.11/site-packages/bottle.py:392: RuntimeWarning: Route <GET /goodbye/<name>> overwrites a previously defined route\n",
      "  warnings.warn(msg % (method, rule), RuntimeWarning)\n"
     ]
    }
   ],
   "source": [
    "@route('/goodbye')\n",
    "@route('/goodbye/')\n",
    "@route('/goodbye/<name>')\n",
    "def hello(name=\"user\"):\n",
    "    return 'Goodbye ' + name"
   ]
  },
  {
   "cell_type": "code",
   "execution_count": 20,
   "id": "7a109232",
   "metadata": {},
   "outputs": [
    {
     "name": "stderr",
     "output_type": "stream",
     "text": [
      "/Users/szucshenrik/anaconda3/lib/python3.11/site-packages/bottle.py:392: RuntimeWarning: Route <GET /update/<id:int>/<value:float>> overwrites a previously defined route\n",
      "  warnings.warn(msg % (method, rule), RuntimeWarning)\n"
     ]
    }
   ],
   "source": [
    "@route('/update/<id:int>/<value:float>')\n",
    "def hello(id, value):\n",
    "    return 'update ' + str(id) + ' => ' + str(value)"
   ]
  },
  {
   "cell_type": "code",
   "execution_count": 24,
   "id": "4e88f9a9",
   "metadata": {},
   "outputs": [
    {
     "name": "stderr",
     "output_type": "stream",
     "text": [
      "/Users/szucshenrik/anaconda3/lib/python3.11/site-packages/bottle.py:392: RuntimeWarning: Route <GET /letters/<s>> overwrites a previously defined route\n",
      "  warnings.warn(msg % (method, rule), RuntimeWarning)\n"
     ]
    }
   ],
   "source": [
    "@route('/letters/<s>')\n",
    "def alphabets(s):\n",
    "    if s.isalpha():\n",
    "        return 'Only letters recieved'\n",
    "    else:\n",
    "        return 'Bad characters'"
   ]
  },
  {
   "cell_type": "code",
   "execution_count": 25,
   "id": "64680c53",
   "metadata": {},
   "outputs": [
    {
     "name": "stderr",
     "output_type": "stream",
     "text": [
      "Bottle v0.12.25 server starting up (using WSGIRefServer())...\n",
      "Listening on http://localhost:8080/\n",
      "Hit Ctrl-C to quit.\n",
      "\n",
      "127.0.0.1 - - [04/Apr/2024 09:47:04] \"GET /letters/hsdsdsad2234 HTTP/1.1\" 200 14\n",
      "127.0.0.1 - - [04/Apr/2024 09:47:07] \"GET /letters/s HTTP/1.1\" 200 21\n",
      "/Users/szucshenrik/anaconda3/lib/python3.11/site-packages/bottle.py:3177: ResourceWarning: unclosed <socket.socket fd=74, family=2, type=1, proto=0, laddr=('127.0.0.1', 8080)>\n",
      "  pass\n",
      "ResourceWarning: Enable tracemalloc to get the object allocation traceback\n"
     ]
    }
   ],
   "source": [
    "run(host='localhost', port=8080, debug=True)"
   ]
  },
  {
   "cell_type": "code",
   "execution_count": null,
   "id": "dd896268",
   "metadata": {},
   "outputs": [],
   "source": []
  }
 ],
 "metadata": {
  "kernelspec": {
   "display_name": "Python 3 (ipykernel)",
   "language": "python",
   "name": "python3"
  },
  "language_info": {
   "codemirror_mode": {
    "name": "ipython",
    "version": 3
   },
   "file_extension": ".py",
   "mimetype": "text/x-python",
   "name": "python",
   "nbconvert_exporter": "python",
   "pygments_lexer": "ipython3",
   "version": "3.11.5"
  },
  "varInspector": {
   "cols": {
    "lenName": 16,
    "lenType": 16,
    "lenVar": 40
   },
   "kernels_config": {
    "python": {
     "delete_cmd_postfix": "",
     "delete_cmd_prefix": "del ",
     "library": "var_list.py",
     "varRefreshCmd": "print(var_dic_list())"
    },
    "r": {
     "delete_cmd_postfix": ") ",
     "delete_cmd_prefix": "rm(",
     "library": "var_list.r",
     "varRefreshCmd": "cat(var_dic_list()) "
    }
   },
   "types_to_exclude": [
    "module",
    "function",
    "builtin_function_or_method",
    "instance",
    "_Feature"
   ],
   "window_display": false
  }
 },
 "nbformat": 4,
 "nbformat_minor": 5
}
